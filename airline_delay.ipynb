{
 "cells": [
  {
   "cell_type": "code",
   "execution_count": null,
   "metadata": {},
   "outputs": [],
   "source": [
    "# Run this in terminal if you get a blank chart: jupyter notebook --NotebookApp.iopub_data_rate_limit=1.0e20"
   ]
  },
  {
   "cell_type": "code",
   "execution_count": 7,
   "metadata": {},
   "outputs": [],
   "source": [
    "# import libraries\n",
    "import pandas as pd\n",
    "import numpy as np\n",
    "import datetime \n",
    "import os\n",
    "\n",
    "import matplotlib.pyplot as plt\n",
    "import plotly.express as px\n",
    "import plotly.graph_objs as go\n",
    "import chart_studio\n",
    "import chart_studio.plotly as py"
   ]
  },
  {
   "cell_type": "code",
   "execution_count": 2,
   "metadata": {},
   "outputs": [
    {
     "data": {
      "text/html": [
       "<div>\n",
       "<style scoped>\n",
       "    .dataframe tbody tr th:only-of-type {\n",
       "        vertical-align: middle;\n",
       "    }\n",
       "\n",
       "    .dataframe tbody tr th {\n",
       "        vertical-align: top;\n",
       "    }\n",
       "\n",
       "    .dataframe thead th {\n",
       "        text-align: right;\n",
       "    }\n",
       "</style>\n",
       "<table border=\"1\" class=\"dataframe\">\n",
       "  <thead>\n",
       "    <tr style=\"text-align: right;\">\n",
       "      <th></th>\n",
       "      <th>FL_DATE</th>\n",
       "      <th>OP_CARRIER</th>\n",
       "      <th>ORIGIN</th>\n",
       "      <th>DEST</th>\n",
       "      <th>DEP_DELAY</th>\n",
       "      <th>ARR_DELAY</th>\n",
       "    </tr>\n",
       "  </thead>\n",
       "  <tbody>\n",
       "    <tr>\n",
       "      <th>4186903</th>\n",
       "      <td>2018-08-01</td>\n",
       "      <td>AA</td>\n",
       "      <td>JFK</td>\n",
       "      <td>PHX</td>\n",
       "      <td>9.0</td>\n",
       "      <td>44.0</td>\n",
       "    </tr>\n",
       "    <tr>\n",
       "      <th>4186904</th>\n",
       "      <td>2018-08-01</td>\n",
       "      <td>AA</td>\n",
       "      <td>PHX</td>\n",
       "      <td>EWR</td>\n",
       "      <td>29.0</td>\n",
       "      <td>53.0</td>\n",
       "    </tr>\n",
       "    <tr>\n",
       "      <th>4186905</th>\n",
       "      <td>2018-08-01</td>\n",
       "      <td>AA</td>\n",
       "      <td>CLE</td>\n",
       "      <td>DFW</td>\n",
       "      <td>-3.0</td>\n",
       "      <td>-2.0</td>\n",
       "    </tr>\n",
       "    <tr>\n",
       "      <th>4186906</th>\n",
       "      <td>2018-08-01</td>\n",
       "      <td>AA</td>\n",
       "      <td>SJU</td>\n",
       "      <td>DFW</td>\n",
       "      <td>44.0</td>\n",
       "      <td>43.0</td>\n",
       "    </tr>\n",
       "    <tr>\n",
       "      <th>4186907</th>\n",
       "      <td>2018-08-01</td>\n",
       "      <td>AA</td>\n",
       "      <td>AUS</td>\n",
       "      <td>MIA</td>\n",
       "      <td>-4.0</td>\n",
       "      <td>-2.0</td>\n",
       "    </tr>\n",
       "    <tr>\n",
       "      <th>...</th>\n",
       "      <td>...</td>\n",
       "      <td>...</td>\n",
       "      <td>...</td>\n",
       "      <td>...</td>\n",
       "      <td>...</td>\n",
       "      <td>...</td>\n",
       "    </tr>\n",
       "    <tr>\n",
       "      <th>4831571</th>\n",
       "      <td>2018-08-31</td>\n",
       "      <td>AA</td>\n",
       "      <td>SLC</td>\n",
       "      <td>DFW</td>\n",
       "      <td>-6.0</td>\n",
       "      <td>-17.0</td>\n",
       "    </tr>\n",
       "    <tr>\n",
       "      <th>4831572</th>\n",
       "      <td>2018-08-31</td>\n",
       "      <td>AA</td>\n",
       "      <td>TUS</td>\n",
       "      <td>ORD</td>\n",
       "      <td>-10.0</td>\n",
       "      <td>12.0</td>\n",
       "    </tr>\n",
       "    <tr>\n",
       "      <th>4831573</th>\n",
       "      <td>2018-08-31</td>\n",
       "      <td>AA</td>\n",
       "      <td>DFW</td>\n",
       "      <td>LAX</td>\n",
       "      <td>2.0</td>\n",
       "      <td>-14.0</td>\n",
       "    </tr>\n",
       "    <tr>\n",
       "      <th>4831574</th>\n",
       "      <td>2018-08-31</td>\n",
       "      <td>AA</td>\n",
       "      <td>LAX</td>\n",
       "      <td>MCO</td>\n",
       "      <td>-2.0</td>\n",
       "      <td>-5.0</td>\n",
       "    </tr>\n",
       "    <tr>\n",
       "      <th>4831575</th>\n",
       "      <td>2018-08-31</td>\n",
       "      <td>AA</td>\n",
       "      <td>MIA</td>\n",
       "      <td>DCA</td>\n",
       "      <td>76.0</td>\n",
       "      <td>59.0</td>\n",
       "    </tr>\n",
       "  </tbody>\n",
       "</table>\n",
       "<p>644673 rows × 6 columns</p>\n",
       "</div>"
      ],
      "text/plain": [
       "           FL_DATE OP_CARRIER ORIGIN DEST  DEP_DELAY  ARR_DELAY\n",
       "4186903 2018-08-01         AA    JFK  PHX        9.0       44.0\n",
       "4186904 2018-08-01         AA    PHX  EWR       29.0       53.0\n",
       "4186905 2018-08-01         AA    CLE  DFW       -3.0       -2.0\n",
       "4186906 2018-08-01         AA    SJU  DFW       44.0       43.0\n",
       "4186907 2018-08-01         AA    AUS  MIA       -4.0       -2.0\n",
       "...            ...        ...    ...  ...        ...        ...\n",
       "4831571 2018-08-31         AA    SLC  DFW       -6.0      -17.0\n",
       "4831572 2018-08-31         AA    TUS  ORD      -10.0       12.0\n",
       "4831573 2018-08-31         AA    DFW  LAX        2.0      -14.0\n",
       "4831574 2018-08-31         AA    LAX  MCO       -2.0       -5.0\n",
       "4831575 2018-08-31         AA    MIA  DCA       76.0       59.0\n",
       "\n",
       "[644673 rows x 6 columns]"
      ]
     },
     "execution_count": 2,
     "metadata": {},
     "output_type": "execute_result"
    }
   ],
   "source": [
    "df = pd.read_csv(\"2018.csv\") # Source of csv file: https://www.kaggle.com/yuanyuwendymu/airline-delay-and-cancellation-data-2009-2018\n",
    "df['FL_DATE'] =  pd.to_datetime(df['FL_DATE'], format='%Y-%m-%d')\n",
    "df = df[(df.FL_DATE  >= '2018-08-01') & (df.FL_DATE  < '2018-09-01')]\n",
    "cols_to_keep = ['FL_DATE', 'OP_CARRIER', 'ORIGIN', 'DEST', 'DEP_DELAY', 'ARR_DELAY']\n",
    "df = df[cols_to_keep]\n",
    "df"
   ]
  },
  {
   "cell_type": "code",
   "execution_count": 9,
   "metadata": {},
   "outputs": [
    {
     "data": {
      "application/vnd.plotly.v1+json": {
       "config": {
        "plotlyServerURL": "https://plotly.com"
       },
       "data": [
        {
         "link": {
          "source": [
           0,
           0,
           2,
           3,
           3,
           3,
           3,
           0,
           0,
           3,
           2,
           2,
           2,
           0,
           3,
           0,
           2,
           0,
           2,
           0,
           0,
           2,
           2,
           2,
           0,
           0,
           2,
           2,
           2,
           3,
           3,
           3,
           2,
           3,
           0,
           2,
           0,
           3,
           3,
           0,
           2,
           3,
           3,
           0,
           0,
           3,
           0,
           2,
           2,
           0,
           2,
           2,
           2,
           2,
           2,
           2,
           2,
           3,
           2,
           0,
           3,
           3,
           2,
           2,
           2,
           2,
           3,
           2,
           3,
           2,
           2,
           2,
           2,
           3,
           3,
           2,
           0,
           2,
           2,
           2,
           2,
           0,
           0,
           0,
           0,
           0,
           0,
           0,
           0,
           0,
           0,
           3,
           3,
           3,
           2,
           3,
           2,
           0,
           2,
           2,
           0,
           0,
           3,
           2,
           0,
           2,
           2,
           2,
           3,
           2,
           0,
           3,
           0,
           2,
           2,
           2,
           0,
           2,
           0,
           0,
           3,
           0,
           3,
           0,
           2,
           0,
           3,
           3,
           2
          ],
          "target": [
           129,
           130,
           131,
           132,
           133,
           129,
           131,
           136,
           137,
           130,
           0,
           140,
           129,
           142,
           2,
           144,
           132,
           131,
           147,
           148,
           149,
           150,
           151,
           130,
           133,
           154,
           155,
           156,
           154,
           158,
           159,
           160,
           161,
           137,
           163,
           164,
           2,
           164,
           154,
           168,
           169,
           170,
           171,
           172,
           173,
           174,
           175,
           136,
           3,
           178,
           172,
           180,
           133,
           174,
           149,
           148,
           185,
           186,
           187,
           188,
           189,
           190,
           191,
           192,
           158,
           194,
           195,
           196,
           197,
           198,
           173,
           200,
           168,
           140,
           175,
           204,
           158,
           206,
           170,
           142,
           209,
           210,
           164,
           147,
           213,
           195,
           174,
           216,
           217,
           3,
           219,
           136,
           221,
           222,
           137,
           224,
           225,
           226,
           227,
           228,
           160,
           230,
           163,
           232,
           221,
           195,
           235,
           216,
           237,
           160,
           239,
           240,
           241,
           242,
           243,
           175,
           245,
           240,
           247,
           248,
           194,
           180,
           172,
           252,
           253,
           254,
           0,
           253,
           224
          ],
          "value": [
           33,
           20,
           19,
           16,
           16,
           15,
           14,
           14,
           14,
           14,
           13,
           10,
           10,
           10,
           9,
           9,
           9,
           9,
           9,
           9,
           8,
           8,
           8,
           8,
           7,
           7,
           7,
           7,
           7,
           7,
           7,
           6,
           6,
           6,
           6,
           6,
           6,
           6,
           6,
           6,
           5,
           5,
           5,
           5,
           5,
           5,
           5,
           5,
           5,
           5,
           5,
           5,
           5,
           5,
           5,
           5,
           5,
           4,
           4,
           4,
           4,
           4,
           4,
           4,
           4,
           4,
           4,
           4,
           4,
           4,
           4,
           4,
           4,
           4,
           4,
           4,
           4,
           4,
           4,
           4,
           4,
           4,
           4,
           4,
           4,
           4,
           4,
           4,
           4,
           4,
           3,
           3,
           3,
           3,
           3,
           3,
           3,
           3,
           3,
           3,
           3,
           3,
           3,
           3,
           3,
           3,
           3,
           3,
           3,
           3,
           3,
           3,
           3,
           3,
           3,
           3,
           3,
           3,
           3,
           3,
           3,
           3,
           3,
           3,
           3,
           3,
           3,
           3,
           3
          ]
         },
         "node": {
          "color": "red",
          "label": [
           "ATL",
           "ATL",
           "DFW",
           "DEN",
           "DEN",
           "DEN",
           "DEN",
           "ATL",
           "ATL",
           "DEN",
           "DFW",
           "DFW",
           "DFW",
           "ATL",
           "DEN",
           "ATL",
           "DFW",
           "ATL",
           "DFW",
           "ATL",
           "ATL",
           "DFW",
           "DFW",
           "DFW",
           "ATL",
           "ATL",
           "DFW",
           "DFW",
           "DFW",
           "DEN",
           "DEN",
           "DEN",
           "DFW",
           "DEN",
           "ATL",
           "DFW",
           "ATL",
           "DEN",
           "DEN",
           "ATL",
           "DFW",
           "DEN",
           "DEN",
           "ATL",
           "ATL",
           "DEN",
           "ATL",
           "DFW",
           "DFW",
           "ATL",
           "DFW",
           "DFW",
           "DFW",
           "DFW",
           "DFW",
           "DFW",
           "DFW",
           "DEN",
           "DFW",
           "ATL",
           "DEN",
           "DEN",
           "DFW",
           "DFW",
           "DFW",
           "DFW",
           "DEN",
           "DFW",
           "DEN",
           "DFW",
           "DFW",
           "DFW",
           "DFW",
           "DEN",
           "DEN",
           "DFW",
           "ATL",
           "DFW",
           "DFW",
           "DFW",
           "DFW",
           "ATL",
           "ATL",
           "ATL",
           "ATL",
           "ATL",
           "ATL",
           "ATL",
           "ATL",
           "ATL",
           "ATL",
           "DEN",
           "DEN",
           "DEN",
           "DFW",
           "DEN",
           "DFW",
           "ATL",
           "DFW",
           "DFW",
           "ATL",
           "ATL",
           "DEN",
           "DFW",
           "ATL",
           "DFW",
           "DFW",
           "DFW",
           "DEN",
           "DFW",
           "ATL",
           "DEN",
           "ATL",
           "DFW",
           "DFW",
           "DFW",
           "ATL",
           "DFW",
           "ATL",
           "ATL",
           "DEN",
           "ATL",
           "DEN",
           "ATL",
           "DFW",
           "ATL",
           "DEN",
           "DEN",
           "DFW",
           "EWR",
           "LGA",
           "ORD",
           "SFO",
           "LAX",
           "EWR",
           "ORD",
           "BOS",
           "JFK",
           "LGA",
           "ATL",
           "PHX",
           "EWR",
           "DCA",
           "DFW",
           "BWI",
           "SFO",
           "ORD",
           "JAX",
           "MCO",
           "FLL",
           "SAN",
           "MFE",
           "LGA",
           "LAX",
           "DTW",
           "SDF",
           "ELP",
           "DTW",
           "SLC",
           "COS",
           "MCI",
           "CLL",
           "JFK",
           "HOU",
           "IAD",
           "DFW",
           "IAD",
           "DTW",
           "MIA",
           "BMI",
           "IAH",
           "BUR",
           "MSP",
           "MSY",
           "LAS",
           "PHL",
           "BOS",
           "DEN",
           "BNA",
           "MSP",
           "CLE",
           "LAX",
           "LAS",
           "FLL",
           "MCO",
           "CRP",
           "OMA",
           "FWA",
           "TRI",
           "ABQ",
           "ASE",
           "TUL",
           "STL",
           "SLC",
           "SAT",
           "CLT",
           "ROW",
           "DSM",
           "RNO",
           "MSY",
           "CVG",
           "MIA",
           "PHX",
           "PHL",
           "LAW",
           "SLC",
           "IND",
           "IAH",
           "DCA",
           "TYS",
           "GSP",
           "IAD",
           "JAX",
           "AUS",
           "CLT",
           "LAS",
           "BTR",
           "CAE",
           "DEN",
           "EVV",
           "BOS",
           "MDW",
           "SMF",
           "JFK",
           "PDX",
           "GRK",
           "MLU",
           "AMA",
           "MAF",
           "MCI",
           "HPN",
           "HOU",
           "CMH",
           "MDW",
           "CLT",
           "CHA",
           "BTR",
           "SEA",
           "MCI",
           "TPA",
           "PIT",
           "SRQ",
           "ONT",
           "OKC",
           "PHL",
           "CRW",
           "PIT",
           "BHM",
           "AVL",
           "SAT",
           "CLE",
           "MSP",
           "AGS",
           "MKE",
           "ORF",
           "ATL",
           "MKE",
           "PDX"
          ],
          "pad": 3
         },
         "textfont": {
          "color": "white",
          "family": "arial",
          "size": 10
         },
         "type": "sankey"
        }
       ],
       "layout": {
        "font": {
         "size": 10
        },
        "height": 700,
        "template": {
         "data": {
          "bar": [
           {
            "error_x": {
             "color": "#f2f5fa"
            },
            "error_y": {
             "color": "#f2f5fa"
            },
            "marker": {
             "line": {
              "color": "rgb(17,17,17)",
              "width": 0.5
             },
             "pattern": {
              "fillmode": "overlay",
              "size": 10,
              "solidity": 0.2
             }
            },
            "type": "bar"
           }
          ],
          "barpolar": [
           {
            "marker": {
             "line": {
              "color": "rgb(17,17,17)",
              "width": 0.5
             },
             "pattern": {
              "fillmode": "overlay",
              "size": 10,
              "solidity": 0.2
             }
            },
            "type": "barpolar"
           }
          ],
          "carpet": [
           {
            "aaxis": {
             "endlinecolor": "#A2B1C6",
             "gridcolor": "#506784",
             "linecolor": "#506784",
             "minorgridcolor": "#506784",
             "startlinecolor": "#A2B1C6"
            },
            "baxis": {
             "endlinecolor": "#A2B1C6",
             "gridcolor": "#506784",
             "linecolor": "#506784",
             "minorgridcolor": "#506784",
             "startlinecolor": "#A2B1C6"
            },
            "type": "carpet"
           }
          ],
          "choropleth": [
           {
            "colorbar": {
             "outlinewidth": 0,
             "ticks": ""
            },
            "type": "choropleth"
           }
          ],
          "contour": [
           {
            "colorbar": {
             "outlinewidth": 0,
             "ticks": ""
            },
            "colorscale": [
             [
              0,
              "#0d0887"
             ],
             [
              0.1111111111111111,
              "#46039f"
             ],
             [
              0.2222222222222222,
              "#7201a8"
             ],
             [
              0.3333333333333333,
              "#9c179e"
             ],
             [
              0.4444444444444444,
              "#bd3786"
             ],
             [
              0.5555555555555556,
              "#d8576b"
             ],
             [
              0.6666666666666666,
              "#ed7953"
             ],
             [
              0.7777777777777778,
              "#fb9f3a"
             ],
             [
              0.8888888888888888,
              "#fdca26"
             ],
             [
              1,
              "#f0f921"
             ]
            ],
            "type": "contour"
           }
          ],
          "contourcarpet": [
           {
            "colorbar": {
             "outlinewidth": 0,
             "ticks": ""
            },
            "type": "contourcarpet"
           }
          ],
          "heatmap": [
           {
            "colorbar": {
             "outlinewidth": 0,
             "ticks": ""
            },
            "colorscale": [
             [
              0,
              "#0d0887"
             ],
             [
              0.1111111111111111,
              "#46039f"
             ],
             [
              0.2222222222222222,
              "#7201a8"
             ],
             [
              0.3333333333333333,
              "#9c179e"
             ],
             [
              0.4444444444444444,
              "#bd3786"
             ],
             [
              0.5555555555555556,
              "#d8576b"
             ],
             [
              0.6666666666666666,
              "#ed7953"
             ],
             [
              0.7777777777777778,
              "#fb9f3a"
             ],
             [
              0.8888888888888888,
              "#fdca26"
             ],
             [
              1,
              "#f0f921"
             ]
            ],
            "type": "heatmap"
           }
          ],
          "heatmapgl": [
           {
            "colorbar": {
             "outlinewidth": 0,
             "ticks": ""
            },
            "colorscale": [
             [
              0,
              "#0d0887"
             ],
             [
              0.1111111111111111,
              "#46039f"
             ],
             [
              0.2222222222222222,
              "#7201a8"
             ],
             [
              0.3333333333333333,
              "#9c179e"
             ],
             [
              0.4444444444444444,
              "#bd3786"
             ],
             [
              0.5555555555555556,
              "#d8576b"
             ],
             [
              0.6666666666666666,
              "#ed7953"
             ],
             [
              0.7777777777777778,
              "#fb9f3a"
             ],
             [
              0.8888888888888888,
              "#fdca26"
             ],
             [
              1,
              "#f0f921"
             ]
            ],
            "type": "heatmapgl"
           }
          ],
          "histogram": [
           {
            "marker": {
             "pattern": {
              "fillmode": "overlay",
              "size": 10,
              "solidity": 0.2
             }
            },
            "type": "histogram"
           }
          ],
          "histogram2d": [
           {
            "colorbar": {
             "outlinewidth": 0,
             "ticks": ""
            },
            "colorscale": [
             [
              0,
              "#0d0887"
             ],
             [
              0.1111111111111111,
              "#46039f"
             ],
             [
              0.2222222222222222,
              "#7201a8"
             ],
             [
              0.3333333333333333,
              "#9c179e"
             ],
             [
              0.4444444444444444,
              "#bd3786"
             ],
             [
              0.5555555555555556,
              "#d8576b"
             ],
             [
              0.6666666666666666,
              "#ed7953"
             ],
             [
              0.7777777777777778,
              "#fb9f3a"
             ],
             [
              0.8888888888888888,
              "#fdca26"
             ],
             [
              1,
              "#f0f921"
             ]
            ],
            "type": "histogram2d"
           }
          ],
          "histogram2dcontour": [
           {
            "colorbar": {
             "outlinewidth": 0,
             "ticks": ""
            },
            "colorscale": [
             [
              0,
              "#0d0887"
             ],
             [
              0.1111111111111111,
              "#46039f"
             ],
             [
              0.2222222222222222,
              "#7201a8"
             ],
             [
              0.3333333333333333,
              "#9c179e"
             ],
             [
              0.4444444444444444,
              "#bd3786"
             ],
             [
              0.5555555555555556,
              "#d8576b"
             ],
             [
              0.6666666666666666,
              "#ed7953"
             ],
             [
              0.7777777777777778,
              "#fb9f3a"
             ],
             [
              0.8888888888888888,
              "#fdca26"
             ],
             [
              1,
              "#f0f921"
             ]
            ],
            "type": "histogram2dcontour"
           }
          ],
          "mesh3d": [
           {
            "colorbar": {
             "outlinewidth": 0,
             "ticks": ""
            },
            "type": "mesh3d"
           }
          ],
          "parcoords": [
           {
            "line": {
             "colorbar": {
              "outlinewidth": 0,
              "ticks": ""
             }
            },
            "type": "parcoords"
           }
          ],
          "pie": [
           {
            "automargin": true,
            "type": "pie"
           }
          ],
          "scatter": [
           {
            "marker": {
             "line": {
              "color": "#283442"
             }
            },
            "type": "scatter"
           }
          ],
          "scatter3d": [
           {
            "line": {
             "colorbar": {
              "outlinewidth": 0,
              "ticks": ""
             }
            },
            "marker": {
             "colorbar": {
              "outlinewidth": 0,
              "ticks": ""
             }
            },
            "type": "scatter3d"
           }
          ],
          "scattercarpet": [
           {
            "marker": {
             "colorbar": {
              "outlinewidth": 0,
              "ticks": ""
             }
            },
            "type": "scattercarpet"
           }
          ],
          "scattergeo": [
           {
            "marker": {
             "colorbar": {
              "outlinewidth": 0,
              "ticks": ""
             }
            },
            "type": "scattergeo"
           }
          ],
          "scattergl": [
           {
            "marker": {
             "line": {
              "color": "#283442"
             }
            },
            "type": "scattergl"
           }
          ],
          "scattermapbox": [
           {
            "marker": {
             "colorbar": {
              "outlinewidth": 0,
              "ticks": ""
             }
            },
            "type": "scattermapbox"
           }
          ],
          "scatterpolar": [
           {
            "marker": {
             "colorbar": {
              "outlinewidth": 0,
              "ticks": ""
             }
            },
            "type": "scatterpolar"
           }
          ],
          "scatterpolargl": [
           {
            "marker": {
             "colorbar": {
              "outlinewidth": 0,
              "ticks": ""
             }
            },
            "type": "scatterpolargl"
           }
          ],
          "scatterternary": [
           {
            "marker": {
             "colorbar": {
              "outlinewidth": 0,
              "ticks": ""
             }
            },
            "type": "scatterternary"
           }
          ],
          "surface": [
           {
            "colorbar": {
             "outlinewidth": 0,
             "ticks": ""
            },
            "colorscale": [
             [
              0,
              "#0d0887"
             ],
             [
              0.1111111111111111,
              "#46039f"
             ],
             [
              0.2222222222222222,
              "#7201a8"
             ],
             [
              0.3333333333333333,
              "#9c179e"
             ],
             [
              0.4444444444444444,
              "#bd3786"
             ],
             [
              0.5555555555555556,
              "#d8576b"
             ],
             [
              0.6666666666666666,
              "#ed7953"
             ],
             [
              0.7777777777777778,
              "#fb9f3a"
             ],
             [
              0.8888888888888888,
              "#fdca26"
             ],
             [
              1,
              "#f0f921"
             ]
            ],
            "type": "surface"
           }
          ],
          "table": [
           {
            "cells": {
             "fill": {
              "color": "#506784"
             },
             "line": {
              "color": "rgb(17,17,17)"
             }
            },
            "header": {
             "fill": {
              "color": "#2a3f5f"
             },
             "line": {
              "color": "rgb(17,17,17)"
             }
            },
            "type": "table"
           }
          ]
         },
         "layout": {
          "annotationdefaults": {
           "arrowcolor": "#f2f5fa",
           "arrowhead": 0,
           "arrowwidth": 1
          },
          "autotypenumbers": "strict",
          "coloraxis": {
           "colorbar": {
            "outlinewidth": 0,
            "ticks": ""
           }
          },
          "colorscale": {
           "diverging": [
            [
             0,
             "#8e0152"
            ],
            [
             0.1,
             "#c51b7d"
            ],
            [
             0.2,
             "#de77ae"
            ],
            [
             0.3,
             "#f1b6da"
            ],
            [
             0.4,
             "#fde0ef"
            ],
            [
             0.5,
             "#f7f7f7"
            ],
            [
             0.6,
             "#e6f5d0"
            ],
            [
             0.7,
             "#b8e186"
            ],
            [
             0.8,
             "#7fbc41"
            ],
            [
             0.9,
             "#4d9221"
            ],
            [
             1,
             "#276419"
            ]
           ],
           "sequential": [
            [
             0,
             "#0d0887"
            ],
            [
             0.1111111111111111,
             "#46039f"
            ],
            [
             0.2222222222222222,
             "#7201a8"
            ],
            [
             0.3333333333333333,
             "#9c179e"
            ],
            [
             0.4444444444444444,
             "#bd3786"
            ],
            [
             0.5555555555555556,
             "#d8576b"
            ],
            [
             0.6666666666666666,
             "#ed7953"
            ],
            [
             0.7777777777777778,
             "#fb9f3a"
            ],
            [
             0.8888888888888888,
             "#fdca26"
            ],
            [
             1,
             "#f0f921"
            ]
           ],
           "sequentialminus": [
            [
             0,
             "#0d0887"
            ],
            [
             0.1111111111111111,
             "#46039f"
            ],
            [
             0.2222222222222222,
             "#7201a8"
            ],
            [
             0.3333333333333333,
             "#9c179e"
            ],
            [
             0.4444444444444444,
             "#bd3786"
            ],
            [
             0.5555555555555556,
             "#d8576b"
            ],
            [
             0.6666666666666666,
             "#ed7953"
            ],
            [
             0.7777777777777778,
             "#fb9f3a"
            ],
            [
             0.8888888888888888,
             "#fdca26"
            ],
            [
             1,
             "#f0f921"
            ]
           ]
          },
          "colorway": [
           "#636efa",
           "#EF553B",
           "#00cc96",
           "#ab63fa",
           "#FFA15A",
           "#19d3f3",
           "#FF6692",
           "#B6E880",
           "#FF97FF",
           "#FECB52"
          ],
          "font": {
           "color": "#f2f5fa"
          },
          "geo": {
           "bgcolor": "rgb(17,17,17)",
           "lakecolor": "rgb(17,17,17)",
           "landcolor": "rgb(17,17,17)",
           "showlakes": true,
           "showland": true,
           "subunitcolor": "#506784"
          },
          "hoverlabel": {
           "align": "left"
          },
          "hovermode": "closest",
          "mapbox": {
           "style": "dark"
          },
          "paper_bgcolor": "rgb(17,17,17)",
          "plot_bgcolor": "rgb(17,17,17)",
          "polar": {
           "angularaxis": {
            "gridcolor": "#506784",
            "linecolor": "#506784",
            "ticks": ""
           },
           "bgcolor": "rgb(17,17,17)",
           "radialaxis": {
            "gridcolor": "#506784",
            "linecolor": "#506784",
            "ticks": ""
           }
          },
          "scene": {
           "xaxis": {
            "backgroundcolor": "rgb(17,17,17)",
            "gridcolor": "#506784",
            "gridwidth": 2,
            "linecolor": "#506784",
            "showbackground": true,
            "ticks": "",
            "zerolinecolor": "#C8D4E3"
           },
           "yaxis": {
            "backgroundcolor": "rgb(17,17,17)",
            "gridcolor": "#506784",
            "gridwidth": 2,
            "linecolor": "#506784",
            "showbackground": true,
            "ticks": "",
            "zerolinecolor": "#C8D4E3"
           },
           "zaxis": {
            "backgroundcolor": "rgb(17,17,17)",
            "gridcolor": "#506784",
            "gridwidth": 2,
            "linecolor": "#506784",
            "showbackground": true,
            "ticks": "",
            "zerolinecolor": "#C8D4E3"
           }
          },
          "shapedefaults": {
           "line": {
            "color": "#f2f5fa"
           }
          },
          "sliderdefaults": {
           "bgcolor": "#C8D4E3",
           "bordercolor": "rgb(17,17,17)",
           "borderwidth": 1,
           "tickwidth": 0
          },
          "ternary": {
           "aaxis": {
            "gridcolor": "#506784",
            "linecolor": "#506784",
            "ticks": ""
           },
           "baxis": {
            "gridcolor": "#506784",
            "linecolor": "#506784",
            "ticks": ""
           },
           "bgcolor": "rgb(17,17,17)",
           "caxis": {
            "gridcolor": "#506784",
            "linecolor": "#506784",
            "ticks": ""
           }
          },
          "title": {
           "x": 0.05
          },
          "updatemenudefaults": {
           "bgcolor": "#506784",
           "borderwidth": 0
          },
          "xaxis": {
           "automargin": true,
           "gridcolor": "#283442",
           "linecolor": "#506784",
           "ticks": "",
           "title": {
            "standoff": 15
           },
           "zerolinecolor": "#283442",
           "zerolinewidth": 2
          },
          "yaxis": {
           "automargin": true,
           "gridcolor": "#283442",
           "linecolor": "#506784",
           "ticks": "",
           "title": {
            "standoff": 15
           },
           "zerolinecolor": "#283442",
           "zerolinewidth": 2
          }
         }
        },
        "title": {
         "text": "Number of flights with +3 hours arrival delay from top three busiest US airpots to other airports in August 2018"
        }
       }
      },
      "text/html": [
       "<div>                            <div id=\"fe8fdb36-4080-49ac-81e1-46f5e1f21f0d\" class=\"plotly-graph-div\" style=\"height:700px; width:100%;\"></div>            <script type=\"text/javascript\">                require([\"plotly\"], function(Plotly) {                    window.PLOTLYENV=window.PLOTLYENV || {};                                    if (document.getElementById(\"fe8fdb36-4080-49ac-81e1-46f5e1f21f0d\")) {                    Plotly.newPlot(                        \"fe8fdb36-4080-49ac-81e1-46f5e1f21f0d\",                        [{\"link\":{\"source\":[0,0,2,3,3,3,3,0,0,3,2,2,2,0,3,0,2,0,2,0,0,2,2,2,0,0,2,2,2,3,3,3,2,3,0,2,0,3,3,0,2,3,3,0,0,3,0,2,2,0,2,2,2,2,2,2,2,3,2,0,3,3,2,2,2,2,3,2,3,2,2,2,2,3,3,2,0,2,2,2,2,0,0,0,0,0,0,0,0,0,0,3,3,3,2,3,2,0,2,2,0,0,3,2,0,2,2,2,3,2,0,3,0,2,2,2,0,2,0,0,3,0,3,0,2,0,3,3,2],\"target\":[129,130,131,132,133,129,131,136,137,130,0,140,129,142,2,144,132,131,147,148,149,150,151,130,133,154,155,156,154,158,159,160,161,137,163,164,2,164,154,168,169,170,171,172,173,174,175,136,3,178,172,180,133,174,149,148,185,186,187,188,189,190,191,192,158,194,195,196,197,198,173,200,168,140,175,204,158,206,170,142,209,210,164,147,213,195,174,216,217,3,219,136,221,222,137,224,225,226,227,228,160,230,163,232,221,195,235,216,237,160,239,240,241,242,243,175,245,240,247,248,194,180,172,252,253,254,0,253,224],\"value\":[33,20,19,16,16,15,14,14,14,14,13,10,10,10,9,9,9,9,9,9,8,8,8,8,7,7,7,7,7,7,7,6,6,6,6,6,6,6,6,6,5,5,5,5,5,5,5,5,5,5,5,5,5,5,5,5,5,4,4,4,4,4,4,4,4,4,4,4,4,4,4,4,4,4,4,4,4,4,4,4,4,4,4,4,4,4,4,4,4,4,3,3,3,3,3,3,3,3,3,3,3,3,3,3,3,3,3,3,3,3,3,3,3,3,3,3,3,3,3,3,3,3,3,3,3,3,3,3,3]},\"node\":{\"color\":\"red\",\"label\":[\"ATL\",\"ATL\",\"DFW\",\"DEN\",\"DEN\",\"DEN\",\"DEN\",\"ATL\",\"ATL\",\"DEN\",\"DFW\",\"DFW\",\"DFW\",\"ATL\",\"DEN\",\"ATL\",\"DFW\",\"ATL\",\"DFW\",\"ATL\",\"ATL\",\"DFW\",\"DFW\",\"DFW\",\"ATL\",\"ATL\",\"DFW\",\"DFW\",\"DFW\",\"DEN\",\"DEN\",\"DEN\",\"DFW\",\"DEN\",\"ATL\",\"DFW\",\"ATL\",\"DEN\",\"DEN\",\"ATL\",\"DFW\",\"DEN\",\"DEN\",\"ATL\",\"ATL\",\"DEN\",\"ATL\",\"DFW\",\"DFW\",\"ATL\",\"DFW\",\"DFW\",\"DFW\",\"DFW\",\"DFW\",\"DFW\",\"DFW\",\"DEN\",\"DFW\",\"ATL\",\"DEN\",\"DEN\",\"DFW\",\"DFW\",\"DFW\",\"DFW\",\"DEN\",\"DFW\",\"DEN\",\"DFW\",\"DFW\",\"DFW\",\"DFW\",\"DEN\",\"DEN\",\"DFW\",\"ATL\",\"DFW\",\"DFW\",\"DFW\",\"DFW\",\"ATL\",\"ATL\",\"ATL\",\"ATL\",\"ATL\",\"ATL\",\"ATL\",\"ATL\",\"ATL\",\"ATL\",\"DEN\",\"DEN\",\"DEN\",\"DFW\",\"DEN\",\"DFW\",\"ATL\",\"DFW\",\"DFW\",\"ATL\",\"ATL\",\"DEN\",\"DFW\",\"ATL\",\"DFW\",\"DFW\",\"DFW\",\"DEN\",\"DFW\",\"ATL\",\"DEN\",\"ATL\",\"DFW\",\"DFW\",\"DFW\",\"ATL\",\"DFW\",\"ATL\",\"ATL\",\"DEN\",\"ATL\",\"DEN\",\"ATL\",\"DFW\",\"ATL\",\"DEN\",\"DEN\",\"DFW\",\"EWR\",\"LGA\",\"ORD\",\"SFO\",\"LAX\",\"EWR\",\"ORD\",\"BOS\",\"JFK\",\"LGA\",\"ATL\",\"PHX\",\"EWR\",\"DCA\",\"DFW\",\"BWI\",\"SFO\",\"ORD\",\"JAX\",\"MCO\",\"FLL\",\"SAN\",\"MFE\",\"LGA\",\"LAX\",\"DTW\",\"SDF\",\"ELP\",\"DTW\",\"SLC\",\"COS\",\"MCI\",\"CLL\",\"JFK\",\"HOU\",\"IAD\",\"DFW\",\"IAD\",\"DTW\",\"MIA\",\"BMI\",\"IAH\",\"BUR\",\"MSP\",\"MSY\",\"LAS\",\"PHL\",\"BOS\",\"DEN\",\"BNA\",\"MSP\",\"CLE\",\"LAX\",\"LAS\",\"FLL\",\"MCO\",\"CRP\",\"OMA\",\"FWA\",\"TRI\",\"ABQ\",\"ASE\",\"TUL\",\"STL\",\"SLC\",\"SAT\",\"CLT\",\"ROW\",\"DSM\",\"RNO\",\"MSY\",\"CVG\",\"MIA\",\"PHX\",\"PHL\",\"LAW\",\"SLC\",\"IND\",\"IAH\",\"DCA\",\"TYS\",\"GSP\",\"IAD\",\"JAX\",\"AUS\",\"CLT\",\"LAS\",\"BTR\",\"CAE\",\"DEN\",\"EVV\",\"BOS\",\"MDW\",\"SMF\",\"JFK\",\"PDX\",\"GRK\",\"MLU\",\"AMA\",\"MAF\",\"MCI\",\"HPN\",\"HOU\",\"CMH\",\"MDW\",\"CLT\",\"CHA\",\"BTR\",\"SEA\",\"MCI\",\"TPA\",\"PIT\",\"SRQ\",\"ONT\",\"OKC\",\"PHL\",\"CRW\",\"PIT\",\"BHM\",\"AVL\",\"SAT\",\"CLE\",\"MSP\",\"AGS\",\"MKE\",\"ORF\",\"ATL\",\"MKE\",\"PDX\"],\"pad\":3},\"textfont\":{\"color\":\"white\",\"family\":\"arial\",\"size\":10},\"type\":\"sankey\"}],                        {\"template\":{\"data\":{\"barpolar\":[{\"marker\":{\"line\":{\"color\":\"rgb(17,17,17)\",\"width\":0.5},\"pattern\":{\"fillmode\":\"overlay\",\"size\":10,\"solidity\":0.2}},\"type\":\"barpolar\"}],\"bar\":[{\"error_x\":{\"color\":\"#f2f5fa\"},\"error_y\":{\"color\":\"#f2f5fa\"},\"marker\":{\"line\":{\"color\":\"rgb(17,17,17)\",\"width\":0.5},\"pattern\":{\"fillmode\":\"overlay\",\"size\":10,\"solidity\":0.2}},\"type\":\"bar\"}],\"carpet\":[{\"aaxis\":{\"endlinecolor\":\"#A2B1C6\",\"gridcolor\":\"#506784\",\"linecolor\":\"#506784\",\"minorgridcolor\":\"#506784\",\"startlinecolor\":\"#A2B1C6\"},\"baxis\":{\"endlinecolor\":\"#A2B1C6\",\"gridcolor\":\"#506784\",\"linecolor\":\"#506784\",\"minorgridcolor\":\"#506784\",\"startlinecolor\":\"#A2B1C6\"},\"type\":\"carpet\"}],\"choropleth\":[{\"colorbar\":{\"outlinewidth\":0,\"ticks\":\"\"},\"type\":\"choropleth\"}],\"contourcarpet\":[{\"colorbar\":{\"outlinewidth\":0,\"ticks\":\"\"},\"type\":\"contourcarpet\"}],\"contour\":[{\"colorbar\":{\"outlinewidth\":0,\"ticks\":\"\"},\"colorscale\":[[0.0,\"#0d0887\"],[0.1111111111111111,\"#46039f\"],[0.2222222222222222,\"#7201a8\"],[0.3333333333333333,\"#9c179e\"],[0.4444444444444444,\"#bd3786\"],[0.5555555555555556,\"#d8576b\"],[0.6666666666666666,\"#ed7953\"],[0.7777777777777778,\"#fb9f3a\"],[0.8888888888888888,\"#fdca26\"],[1.0,\"#f0f921\"]],\"type\":\"contour\"}],\"heatmapgl\":[{\"colorbar\":{\"outlinewidth\":0,\"ticks\":\"\"},\"colorscale\":[[0.0,\"#0d0887\"],[0.1111111111111111,\"#46039f\"],[0.2222222222222222,\"#7201a8\"],[0.3333333333333333,\"#9c179e\"],[0.4444444444444444,\"#bd3786\"],[0.5555555555555556,\"#d8576b\"],[0.6666666666666666,\"#ed7953\"],[0.7777777777777778,\"#fb9f3a\"],[0.8888888888888888,\"#fdca26\"],[1.0,\"#f0f921\"]],\"type\":\"heatmapgl\"}],\"heatmap\":[{\"colorbar\":{\"outlinewidth\":0,\"ticks\":\"\"},\"colorscale\":[[0.0,\"#0d0887\"],[0.1111111111111111,\"#46039f\"],[0.2222222222222222,\"#7201a8\"],[0.3333333333333333,\"#9c179e\"],[0.4444444444444444,\"#bd3786\"],[0.5555555555555556,\"#d8576b\"],[0.6666666666666666,\"#ed7953\"],[0.7777777777777778,\"#fb9f3a\"],[0.8888888888888888,\"#fdca26\"],[1.0,\"#f0f921\"]],\"type\":\"heatmap\"}],\"histogram2dcontour\":[{\"colorbar\":{\"outlinewidth\":0,\"ticks\":\"\"},\"colorscale\":[[0.0,\"#0d0887\"],[0.1111111111111111,\"#46039f\"],[0.2222222222222222,\"#7201a8\"],[0.3333333333333333,\"#9c179e\"],[0.4444444444444444,\"#bd3786\"],[0.5555555555555556,\"#d8576b\"],[0.6666666666666666,\"#ed7953\"],[0.7777777777777778,\"#fb9f3a\"],[0.8888888888888888,\"#fdca26\"],[1.0,\"#f0f921\"]],\"type\":\"histogram2dcontour\"}],\"histogram2d\":[{\"colorbar\":{\"outlinewidth\":0,\"ticks\":\"\"},\"colorscale\":[[0.0,\"#0d0887\"],[0.1111111111111111,\"#46039f\"],[0.2222222222222222,\"#7201a8\"],[0.3333333333333333,\"#9c179e\"],[0.4444444444444444,\"#bd3786\"],[0.5555555555555556,\"#d8576b\"],[0.6666666666666666,\"#ed7953\"],[0.7777777777777778,\"#fb9f3a\"],[0.8888888888888888,\"#fdca26\"],[1.0,\"#f0f921\"]],\"type\":\"histogram2d\"}],\"histogram\":[{\"marker\":{\"pattern\":{\"fillmode\":\"overlay\",\"size\":10,\"solidity\":0.2}},\"type\":\"histogram\"}],\"mesh3d\":[{\"colorbar\":{\"outlinewidth\":0,\"ticks\":\"\"},\"type\":\"mesh3d\"}],\"parcoords\":[{\"line\":{\"colorbar\":{\"outlinewidth\":0,\"ticks\":\"\"}},\"type\":\"parcoords\"}],\"pie\":[{\"automargin\":true,\"type\":\"pie\"}],\"scatter3d\":[{\"line\":{\"colorbar\":{\"outlinewidth\":0,\"ticks\":\"\"}},\"marker\":{\"colorbar\":{\"outlinewidth\":0,\"ticks\":\"\"}},\"type\":\"scatter3d\"}],\"scattercarpet\":[{\"marker\":{\"colorbar\":{\"outlinewidth\":0,\"ticks\":\"\"}},\"type\":\"scattercarpet\"}],\"scattergeo\":[{\"marker\":{\"colorbar\":{\"outlinewidth\":0,\"ticks\":\"\"}},\"type\":\"scattergeo\"}],\"scattergl\":[{\"marker\":{\"line\":{\"color\":\"#283442\"}},\"type\":\"scattergl\"}],\"scattermapbox\":[{\"marker\":{\"colorbar\":{\"outlinewidth\":0,\"ticks\":\"\"}},\"type\":\"scattermapbox\"}],\"scatterpolargl\":[{\"marker\":{\"colorbar\":{\"outlinewidth\":0,\"ticks\":\"\"}},\"type\":\"scatterpolargl\"}],\"scatterpolar\":[{\"marker\":{\"colorbar\":{\"outlinewidth\":0,\"ticks\":\"\"}},\"type\":\"scatterpolar\"}],\"scatter\":[{\"marker\":{\"line\":{\"color\":\"#283442\"}},\"type\":\"scatter\"}],\"scatterternary\":[{\"marker\":{\"colorbar\":{\"outlinewidth\":0,\"ticks\":\"\"}},\"type\":\"scatterternary\"}],\"surface\":[{\"colorbar\":{\"outlinewidth\":0,\"ticks\":\"\"},\"colorscale\":[[0.0,\"#0d0887\"],[0.1111111111111111,\"#46039f\"],[0.2222222222222222,\"#7201a8\"],[0.3333333333333333,\"#9c179e\"],[0.4444444444444444,\"#bd3786\"],[0.5555555555555556,\"#d8576b\"],[0.6666666666666666,\"#ed7953\"],[0.7777777777777778,\"#fb9f3a\"],[0.8888888888888888,\"#fdca26\"],[1.0,\"#f0f921\"]],\"type\":\"surface\"}],\"table\":[{\"cells\":{\"fill\":{\"color\":\"#506784\"},\"line\":{\"color\":\"rgb(17,17,17)\"}},\"header\":{\"fill\":{\"color\":\"#2a3f5f\"},\"line\":{\"color\":\"rgb(17,17,17)\"}},\"type\":\"table\"}]},\"layout\":{\"annotationdefaults\":{\"arrowcolor\":\"#f2f5fa\",\"arrowhead\":0,\"arrowwidth\":1},\"autotypenumbers\":\"strict\",\"coloraxis\":{\"colorbar\":{\"outlinewidth\":0,\"ticks\":\"\"}},\"colorscale\":{\"diverging\":[[0,\"#8e0152\"],[0.1,\"#c51b7d\"],[0.2,\"#de77ae\"],[0.3,\"#f1b6da\"],[0.4,\"#fde0ef\"],[0.5,\"#f7f7f7\"],[0.6,\"#e6f5d0\"],[0.7,\"#b8e186\"],[0.8,\"#7fbc41\"],[0.9,\"#4d9221\"],[1,\"#276419\"]],\"sequential\":[[0.0,\"#0d0887\"],[0.1111111111111111,\"#46039f\"],[0.2222222222222222,\"#7201a8\"],[0.3333333333333333,\"#9c179e\"],[0.4444444444444444,\"#bd3786\"],[0.5555555555555556,\"#d8576b\"],[0.6666666666666666,\"#ed7953\"],[0.7777777777777778,\"#fb9f3a\"],[0.8888888888888888,\"#fdca26\"],[1.0,\"#f0f921\"]],\"sequentialminus\":[[0.0,\"#0d0887\"],[0.1111111111111111,\"#46039f\"],[0.2222222222222222,\"#7201a8\"],[0.3333333333333333,\"#9c179e\"],[0.4444444444444444,\"#bd3786\"],[0.5555555555555556,\"#d8576b\"],[0.6666666666666666,\"#ed7953\"],[0.7777777777777778,\"#fb9f3a\"],[0.8888888888888888,\"#fdca26\"],[1.0,\"#f0f921\"]]},\"colorway\":[\"#636efa\",\"#EF553B\",\"#00cc96\",\"#ab63fa\",\"#FFA15A\",\"#19d3f3\",\"#FF6692\",\"#B6E880\",\"#FF97FF\",\"#FECB52\"],\"font\":{\"color\":\"#f2f5fa\"},\"geo\":{\"bgcolor\":\"rgb(17,17,17)\",\"lakecolor\":\"rgb(17,17,17)\",\"landcolor\":\"rgb(17,17,17)\",\"showlakes\":true,\"showland\":true,\"subunitcolor\":\"#506784\"},\"hoverlabel\":{\"align\":\"left\"},\"hovermode\":\"closest\",\"mapbox\":{\"style\":\"dark\"},\"paper_bgcolor\":\"rgb(17,17,17)\",\"plot_bgcolor\":\"rgb(17,17,17)\",\"polar\":{\"angularaxis\":{\"gridcolor\":\"#506784\",\"linecolor\":\"#506784\",\"ticks\":\"\"},\"bgcolor\":\"rgb(17,17,17)\",\"radialaxis\":{\"gridcolor\":\"#506784\",\"linecolor\":\"#506784\",\"ticks\":\"\"}},\"scene\":{\"xaxis\":{\"backgroundcolor\":\"rgb(17,17,17)\",\"gridcolor\":\"#506784\",\"gridwidth\":2,\"linecolor\":\"#506784\",\"showbackground\":true,\"ticks\":\"\",\"zerolinecolor\":\"#C8D4E3\"},\"yaxis\":{\"backgroundcolor\":\"rgb(17,17,17)\",\"gridcolor\":\"#506784\",\"gridwidth\":2,\"linecolor\":\"#506784\",\"showbackground\":true,\"ticks\":\"\",\"zerolinecolor\":\"#C8D4E3\"},\"zaxis\":{\"backgroundcolor\":\"rgb(17,17,17)\",\"gridcolor\":\"#506784\",\"gridwidth\":2,\"linecolor\":\"#506784\",\"showbackground\":true,\"ticks\":\"\",\"zerolinecolor\":\"#C8D4E3\"}},\"shapedefaults\":{\"line\":{\"color\":\"#f2f5fa\"}},\"sliderdefaults\":{\"bgcolor\":\"#C8D4E3\",\"bordercolor\":\"rgb(17,17,17)\",\"borderwidth\":1,\"tickwidth\":0},\"ternary\":{\"aaxis\":{\"gridcolor\":\"#506784\",\"linecolor\":\"#506784\",\"ticks\":\"\"},\"baxis\":{\"gridcolor\":\"#506784\",\"linecolor\":\"#506784\",\"ticks\":\"\"},\"bgcolor\":\"rgb(17,17,17)\",\"caxis\":{\"gridcolor\":\"#506784\",\"linecolor\":\"#506784\",\"ticks\":\"\"}},\"title\":{\"x\":0.05},\"updatemenudefaults\":{\"bgcolor\":\"#506784\",\"borderwidth\":0},\"xaxis\":{\"automargin\":true,\"gridcolor\":\"#283442\",\"linecolor\":\"#506784\",\"ticks\":\"\",\"title\":{\"standoff\":15},\"zerolinecolor\":\"#283442\",\"zerolinewidth\":2},\"yaxis\":{\"automargin\":true,\"gridcolor\":\"#283442\",\"linecolor\":\"#506784\",\"ticks\":\"\",\"title\":{\"standoff\":15},\"zerolinecolor\":\"#283442\",\"zerolinewidth\":2}}},\"title\":{\"text\":\"Number of flights with +3 hours arrival delay from top three busiest US airpots to other airports in August 2018\"},\"font\":{\"size\":10},\"height\":700},                        {\"responsive\": true}                    ).then(function(){\n",
       "                            \n",
       "var gd = document.getElementById('fe8fdb36-4080-49ac-81e1-46f5e1f21f0d');\n",
       "var x = new MutationObserver(function (mutations, observer) {{\n",
       "        var display = window.getComputedStyle(gd).display;\n",
       "        if (!display || display === 'none') {{\n",
       "            console.log([gd, 'removed!']);\n",
       "            Plotly.purge(gd);\n",
       "            observer.disconnect();\n",
       "        }}\n",
       "}});\n",
       "\n",
       "// Listen for the removal of the full notebook cells\n",
       "var notebookContainer = gd.closest('#notebook-container');\n",
       "if (notebookContainer) {{\n",
       "    x.observe(notebookContainer, {childList: true});\n",
       "}}\n",
       "\n",
       "// Listen for the clearing of the current output cell\n",
       "var outputEl = gd.closest('.output');\n",
       "if (outputEl) {{\n",
       "    x.observe(outputEl, {childList: true});\n",
       "}}\n",
       "\n",
       "                        })                };                });            </script>        </div>"
      ]
     },
     "metadata": {},
     "output_type": "display_data"
    },
    {
     "data": {
      "text/plain": [
       "'https://plotly.com/~naf.se/4/'"
      ]
     },
     "execution_count": 9,
     "metadata": {},
     "output_type": "execute_result"
    }
   ],
   "source": [
    "# Sankey plot ORIGIN => DESTINATION\n",
    "df_delay_origin_dest = pd.DataFrame(df[((df.ORIGIN == 'ATL') | (df.ORIGIN == 'DFW') | ((df.ORIGIN == 'DEN')))& (df.ARR_DELAY > 180)].value_counts(subset= ['ORIGIN','DEST']), columns = ['Count']).reset_index()\n",
    "df_delay_origin_dest = df_delay_origin_dest[df_delay_origin_dest.Count > 2]\n",
    "all_nodes = df_delay_origin_dest.ORIGIN.values.tolist() + df_delay_origin_dest.DEST.values.tolist()\n",
    "source_indices = [all_nodes.index(ORIGIN) for ORIGIN in df_delay_origin_dest.ORIGIN]\n",
    "target_indices = [all_nodes.index(DEST) for DEST in df_delay_origin_dest.DEST]\n",
    "\n",
    "\n",
    "fig = go.Figure(data=[go.Sankey(\n",
    "    # Define nodes\n",
    "    node = dict(\n",
    "      pad = 3,\n",
    "      label =  all_nodes,\n",
    "      color =  \"red\"\n",
    "    ),\n",
    "\n",
    "    # Add links\n",
    "    link = dict(\n",
    "      source =  source_indices,\n",
    "      target =  target_indices,\n",
    "      value =  df_delay_origin_dest.Count),\n",
    "    textfont = dict(color=\"white\", family = \"arial\", size = 10,)\n",
    ")])\n",
    "\n",
    "fig.update_layout(title_text=\"Number of flights with +3 hours arrival delay from top three busiest US airpots to other airports in August 2018\", \n",
    "                  font_size=10, height = 700, template = 'plotly_dark')\n",
    "fig.show()\n",
    "\n",
    "username='your_user_name'\n",
    "api_key='generated API key'\n",
    "chart_studio.tools.set_credentials_file(username=username,\n",
    "                                        api_key=api_key)\n",
    "py.plot(fig, filename=\"flight_delay_2018\", auto_open = True)"
   ]
  }
 ],
 "metadata": {
  "kernelspec": {
   "display_name": "Python 3",
   "language": "python",
   "name": "python3"
  },
  "language_info": {
   "codemirror_mode": {
    "name": "ipython",
    "version": 3
   },
   "file_extension": ".py",
   "mimetype": "text/x-python",
   "name": "python",
   "nbconvert_exporter": "python",
   "pygments_lexer": "ipython3",
   "version": "3.8.8"
  }
 },
 "nbformat": 4,
 "nbformat_minor": 4
}
